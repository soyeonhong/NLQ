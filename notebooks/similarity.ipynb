{
 "cells": [
  {
   "cell_type": "code",
   "execution_count": 3,
   "metadata": {},
   "outputs": [],
   "source": [
    "import torch\n",
    "from sentence_transformers import SentenceTransformer\n",
    "from transformers import MPNetTokenizer, MPNetModel\n",
    "import matplotlib.pyplot as plt\n",
    "import seaborn as sns\n",
    "import json\n",
    "from pathlib import Path\n",
    "import os\n",
    "import numpy as np\n",
    "\n",
    "model_path = '/data/gunsbrother/prjs/ltvu/everything/sbert_finetune/outputs/batch/2024-06-07/17-03-43/lit/103204/checkpoints/step=3834-nlq_R5@0.3=0.0000.ckpt'\n",
    "model = SentenceTransformer('all-mpnet-base-v2').cuda().eval()\n",
    "model.load_state_dict(\n",
    "    {k.replace('model.model.', '0.auto_model.'): v for k, v in torch.load(model_path)['state_dict'].items()},\n",
    "    strict=False\n",
    ")"
   ]
  },
  {
   "cell_type": "code",
   "execution_count": 4,
   "metadata": {},
   "outputs": [],
   "source": [
    "p_caps_dir = Path('/data/gunsbrother/prjs/ltvu/everything/sbert_finetune/data/captions/llava-v1.6-34b/global')\n",
    "p_caps = list(p_caps_dir.glob('*.json'))\n",
    "\n",
    "annotations = json.loads(Path(os.path.join('/data/soyeonhong/GroundVQA/data/unified/annotations.NLQ_val.json')).read_text())\n",
    "valid_video_id = [annotation['video_id'] for annotation in annotations]"
   ]
  },
  {
   "cell_type": "code",
   "execution_count": 5,
   "metadata": {},
   "outputs": [],
   "source": [
    "cos_sims_all = []\n",
    "for p_cap in p_caps:\n",
    "    if p_cap.stem in valid_video_id:\n",
    "\n",
    "        cap_data = json.load(p_cap.open())['answers']\n",
    "        # caps = [entry[2] for entry in cap_data]\n",
    "\n",
    "        embeddings = model.encode(caps)\n",
    "\n",
    "        cos_sim = embeddings @ embeddings.T\n",
    "        \n",
    "        adjacent_cos_sim = []\n",
    "        for idx in range(1, len(embeddings) - 1):\n",
    "            adjacent_cos_sim.append(cos_sim[idx, idx+1])\n",
    "\n",
    "        cos_sims_all.append(np.mean(np.array(adjacent_cos_sim)))\n",
    "        "
   ]
  },
  {
   "cell_type": "code",
   "execution_count": 6,
   "metadata": {},
   "outputs": [
    {
     "data": {
      "text/plain": [
       "0.71322966"
      ]
     },
     "execution_count": 6,
     "metadata": {},
     "output_type": "execute_result"
    }
   ],
   "source": [
    "np.mean(np.array(cos_sims_all))"
   ]
  },
  {
   "cell_type": "code",
   "execution_count": null,
   "metadata": {},
   "outputs": [],
   "source": []
  }
 ],
 "metadata": {
  "kernelspec": {
   "display_name": "groundvqa",
   "language": "python",
   "name": "python3"
  },
  "language_info": {
   "codemirror_mode": {
    "name": "ipython",
    "version": 3
   },
   "file_extension": ".py",
   "mimetype": "text/x-python",
   "name": "python",
   "nbconvert_exporter": "python",
   "pygments_lexer": "ipython3",
   "version": "3.9.19"
  }
 },
 "nbformat": 4,
 "nbformat_minor": 2
}
